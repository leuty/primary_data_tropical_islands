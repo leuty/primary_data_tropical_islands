{
 "cells": [
  {
   "cell_type": "code",
   "execution_count": 11,
   "metadata": {},
   "outputs": [],
   "source": [
    "import xarray as xr\n",
    "import numpy as np\n",
    "import matplotlib.pyplot as plt\n",
    "import pickle as pickle\n",
    "\n",
    "from scipy import ndimage"
   ]
  },
  {
   "cell_type": "code",
   "execution_count": 12,
   "metadata": {},
   "outputs": [],
   "source": [
    "path = '/project/s916/davidle/RCE-LND/'\n",
    "scratch = '/scratch/snx3000/davidle/RCE-LND_new/'\n",
    "\n",
    "d2D_ens0  = pickle.load( open( scratch+'pickles/d2D_all_ens0.pkl', \"rb\" ) )\n",
    "d2D_ens1  = pickle.load( open( scratch+'pickles/d2D_all_ens1.pkl', \"rb\" ) )\n",
    "d2D_ens2  = pickle.load( open( scratch+'pickles/d2D_all_ens2.pkl', \"rb\" ) )\n",
    "d2D_ens3  = pickle.load( open( scratch+'pickles/d2D_all_ens3.pkl', \"rb\" ) )\n",
    "d2D_ens4  = pickle.load( open( scratch+'pickles/d2D_all_ens4.pkl', \"rb\" ) )\n",
    "d2D_ens5  = pickle.load( open( scratch+'pickles/d2D_all_ens5.pkl', \"rb\" ) )\n",
    "\n",
    "d2D = xr.concat((d2D_ens0, d2D_ens1, d2D_ens2, d2D_ens3, d2D_ens4, d2D_ens5), dim='ens')"
   ]
  },
  {
   "cell_type": "code",
   "execution_count": 13,
   "metadata": {},
   "outputs": [],
   "source": [
    "%%capture\n",
    "#Landmask\n",
    "path = '/scratch/snx3000/davidle/RCE-LND_new/RCE_300_3km_1006x1006_ALL_ens0/output/'\n",
    "file='lffd2011032100c.nc'\n",
    "all_const = xr.open_mfdataset(path+file).squeeze()"
   ]
  },
  {
   "cell_type": "code",
   "execution_count": 14,
   "metadata": {},
   "outputs": [
    {
     "name": "stderr",
     "output_type": "stream",
     "text": [
      "/users/davidle/venv-3.6/lib/python3.6/site-packages/xarray/core/resample.py:166: FutureWarning: This DataArray contains multi-dimensional coordinates. In the future, the dimension order of these coordinates will be restored as well unless you specify restore_coord_dims=False.\n",
      "  super(DataArrayResample, self).__init__(*args, **kwargs)\n"
     ]
    }
   ],
   "source": [
    "p = d2D.TOT_PREC.isel(time=slice(100*24,None)).resample(time='24h').sum('time')\n",
    "PW = d2D.TWATER.resample(time='24h').mean('time')\n",
    "fr_land = all_const.FR_LAND"
   ]
  },
  {
   "cell_type": "code",
   "execution_count": 15,
   "metadata": {},
   "outputs": [],
   "source": [
    "median = PW.load().median(dim='time')\n",
    "wetregion = xr.where(PW > median,1 , np.nan)\n",
    "dryregion = xr.where(PW <= median, 1 , np.nan)"
   ]
  },
  {
   "cell_type": "code",
   "execution_count": 16,
   "metadata": {},
   "outputs": [],
   "source": [
    "p_land = p.where(fr_land == 1)\n",
    "wd = xr.where(p > 1.0 ,1, 0)\n",
    "wd_land = xr.where(p > 1.0 ,1, 0).where(fr_land == 1)\n",
    "wd_ocean = xr.where(p > 1.0 ,1, 0).where(fr_land == 0)"
   ]
  },
  {
   "cell_type": "code",
   "execution_count": 43,
   "metadata": {},
   "outputs": [
    {
     "name": "stdout",
     "output_type": "stream",
     "text": [
      "wd freq 0.15089822891675791\n",
      "wd freq std 0.3579496520832834\n"
     ]
    }
   ],
   "source": [
    "print(\"wd freq\", wd.mean().values)\n",
    "print(\"wd freq std\", wd.std().values)"
   ]
  },
  {
   "cell_type": "code",
   "execution_count": 44,
   "metadata": {},
   "outputs": [
    {
     "name": "stdout",
     "output_type": "stream",
     "text": [
      "wd freq. over land 0.2862519620300471\n",
      "wd freq. over land std 0.4520086019800902\n"
     ]
    }
   ],
   "source": [
    "print(\"wd freq. over land\", wd_land.mean().values)\n",
    "print(\"wd freq. over land std\", wd_land.std().values)"
   ]
  },
  {
   "cell_type": "code",
   "execution_count": 45,
   "metadata": {},
   "outputs": [
    {
     "name": "stdout",
     "output_type": "stream",
     "text": [
      "wd freq. over ocean 0.13489036512545802\n",
      "wd freq. over ocean std 0.34160643220199854\n"
     ]
    }
   ],
   "source": [
    "print(\"wd freq. over ocean\", wd_ocean.mean().values)\n",
    "print(\"wd freq. over ocean std\", wd_ocean.std().values)"
   ]
  },
  {
   "cell_type": "code",
   "execution_count": null,
   "metadata": {},
   "outputs": [
    {
     "name": "stdout",
     "output_type": "stream",
     "text": [
      "wd freq. over land wetregion 0.5064994663533965\n"
     ]
    }
   ],
   "source": [
    "print(\"wd freq. over land wetregion\", wd_land.where(wetregion == 1).mean().values)\n",
    "print(\"wd freq. over land wetregion std\", wd_land.where(wetregion == 1).std().values)"
   ]
  },
  {
   "cell_type": "code",
   "execution_count": null,
   "metadata": {},
   "outputs": [],
   "source": [
    "print(\"wd freq. over land dryregion\", wd_land.where((dryregion == 1)).mean().values)\n",
    "print(\"wd freq. over land dryregion std\", wd_land.where((dryregion == 1)).std().values)"
   ]
  },
  {
   "cell_type": "code",
   "execution_count": null,
   "metadata": {},
   "outputs": [],
   "source": [
    "print(\"wd freq. over ocean wetregion\", wd_ocean.where(wetregion == 1).mean().values)\n",
    "print(\"wd freq. over ocean wetregion std\", wd_ocean.where(wetregion == 1).std().values)"
   ]
  },
  {
   "cell_type": "code",
   "execution_count": null,
   "metadata": {},
   "outputs": [],
   "source": [
    "print(\"wd freq. over ocean dryregion\", wd_ocean.where((dryregion == 1)).mean().values)\n",
    "print(\"wd freq. over ocean dryregion\", wd_ocean.where((dryregion == 1)).std().values)"
   ]
  },
  {
   "cell_type": "markdown",
   "metadata": {},
   "source": [
    "# SMALL"
   ]
  },
  {
   "cell_type": "code",
   "execution_count": 19,
   "metadata": {},
   "outputs": [],
   "source": [
    "path = '/project/s916/davidle/RCE-LND/'\n",
    "scratch = '/scratch/snx3000/davidle/RCE-LND_new/'\n",
    "\n",
    "d2D_ens0  = pickle.load( open( scratch+'pickles/d2D_small_ens0.pkl', \"rb\" ) )\n",
    "d2D_ens1  = pickle.load( open( scratch+'pickles/d2D_small_ens1.pkl', \"rb\" ) )\n",
    "d2D_ens2  = pickle.load( open( scratch+'pickles/d2D_small_ens2.pkl', \"rb\" ) )\n",
    "d2D_ens3  = pickle.load( open( scratch+'pickles/d2D_small_ens3.pkl', \"rb\" ) )\n",
    "d2D_ens4  = pickle.load( open( scratch+'pickles/d2D_small_ens4.pkl', \"rb\" ) )\n",
    "d2D_ens5  = pickle.load( open( scratch+'pickles/d2D_small_ens5.pkl', \"rb\" ) )\n",
    "\n",
    "d2D = xr.concat((d2D_ens0, d2D_ens1, d2D_ens2, d2D_ens3, d2D_ens4, d2D_ens5), dim='ens')"
   ]
  },
  {
   "cell_type": "code",
   "execution_count": 20,
   "metadata": {},
   "outputs": [],
   "source": [
    "%%capture\n",
    "#Landmask\n",
    "path = '/scratch/snx3000/davidle/RCE-LND_new/RCE_300_3km_1006x1006_SMALL_ens0/output/'\n",
    "file='lffd2011032100c.nc'\n",
    "all_const = xr.open_mfdataset(path+file).squeeze()"
   ]
  },
  {
   "cell_type": "code",
   "execution_count": 21,
   "metadata": {},
   "outputs": [
    {
     "name": "stderr",
     "output_type": "stream",
     "text": [
      "/users/davidle/venv-3.6/lib/python3.6/site-packages/xarray/core/resample.py:166: FutureWarning: This DataArray contains multi-dimensional coordinates. In the future, the dimension order of these coordinates will be restored as well unless you specify restore_coord_dims=False.\n",
      "  super(DataArrayResample, self).__init__(*args, **kwargs)\n"
     ]
    }
   ],
   "source": [
    "p = d2D.TOT_PREC.isel(time=slice(100*24,None)).resample(time='24h').sum('time')\n",
    "PW = d2D.TWATER.resample(time='24h').mean('time')\n",
    "fr_land = all_const.FR_LAND"
   ]
  },
  {
   "cell_type": "code",
   "execution_count": 22,
   "metadata": {},
   "outputs": [],
   "source": [
    "median = PW.load().median(dim='time')\n",
    "wetregion = xr.where(PW > median,1 , np.nan)\n",
    "dryregion = xr.where(PW <= median, 1 , np.nan)"
   ]
  },
  {
   "cell_type": "code",
   "execution_count": 23,
   "metadata": {},
   "outputs": [],
   "source": [
    "p_land = p.where(fr_land == 1)\n",
    "wd = xr.where(p > 1.0 ,1, 0)\n",
    "wd_land = xr.where(p > 1.0 ,1, 0).where(fr_land == 1)\n",
    "wd_ocean = xr.where(p > 1.0 ,1, 0).where(fr_land == 0)"
   ]
  },
  {
   "cell_type": "code",
   "execution_count": 24,
   "metadata": {},
   "outputs": [],
   "source": [
    "wd_freq_land = wd_land.mean()\n",
    "wd_freq_ocean = wd_ocean.mean()\n",
    "\n",
    "wd_freq_land_moist = wd_land.where(wetregion == 1).mean()\n",
    "wd_freq_land_dry = wd_land.where((dryregion == 1)).mean()\n",
    "\n",
    "wd_freq_ocean_moist = wd_ocean.where(wetregion == 1).mean()\n",
    "wd_freq_ocean_dry = wd_ocean.where((dryregion == 1)).mean()"
   ]
  },
  {
   "cell_type": "code",
   "execution_count": 26,
   "metadata": {},
   "outputs": [
    {
     "name": "stdout",
     "output_type": "stream",
     "text": [
      "wd freq 0.1489525043246156\n",
      "wd freq std 0.0\n"
     ]
    }
   ],
   "source": [
    "print(\"wd freq\", wd.mean().values)\n",
    "print(\"wd freq std\", wd.std().values)"
   ]
  },
  {
   "cell_type": "code",
   "execution_count": 27,
   "metadata": {},
   "outputs": [
    {
     "name": "stdout",
     "output_type": "stream",
     "text": [
      "wd freq. over land 0.23537932616719637\n",
      "wd freq. over land std 0.4242356644369648\n"
     ]
    }
   ],
   "source": [
    "print(\"wd freq. over land\", wd_land.mean().values)\n",
    "print(\"wd freq. over land std\", wd_land.std().values)"
   ]
  },
  {
   "cell_type": "code",
   "execution_count": 28,
   "metadata": {},
   "outputs": [
    {
     "name": "stdout",
     "output_type": "stream",
     "text": [
      "wd freq. over ocean 0.14451739683113504\n",
      "wd freq. over ocean std 0.35161359308804785\n"
     ]
    }
   ],
   "source": [
    "print(\"wd freq. over ocean\", wd_ocean.mean().values)\n",
    "print(\"wd freq. over ocean std\", wd_ocean.std().values)"
   ]
  },
  {
   "cell_type": "code",
   "execution_count": 29,
   "metadata": {},
   "outputs": [
    {
     "name": "stdout",
     "output_type": "stream",
     "text": [
      "wd freq. over land wetregion 0.4979855793446728\n",
      "wd freq. over land wetregion std 0.4999959420929568\n"
     ]
    }
   ],
   "source": [
    "print(\"wd freq. over land wetregion\", wd_land.where(wetregion == 1).mean().values)\n",
    "print(\"wd freq. over land wetregion std\", wd_land.where(wetregion == 1).std().values)"
   ]
  },
  {
   "cell_type": "code",
   "execution_count": 30,
   "metadata": {},
   "outputs": [
    {
     "name": "stdout",
     "output_type": "stream",
     "text": [
      "wd freq. over ocean wetregion 0.06834968639610202\n",
      "wd freq. over ocean wetregion std 0.25234501533744735\n"
     ]
    }
   ],
   "source": [
    "print(\"wd freq. over land dryregion\", wd_land.where((dryregion == 1)).mean().values)\n",
    "print(\"wd freq. over land dryregion std\", wd_land.where((dryregion == 1)).std().values)"
   ]
  },
  {
   "cell_type": "code",
   "execution_count": 31,
   "metadata": {},
   "outputs": [
    {
     "name": "stdout",
     "output_type": "stream",
     "text": [
      "wd freq. over land dryregion 0.25758110072908735\n",
      "wd freq. over land dryregion std 0.4373020435308747\n"
     ]
    }
   ],
   "source": [
    "print(\"wd freq. over ocean wetregion\", wd_ocean.where(wetregion == 1).mean().values)\n",
    "print(\"wd freq. over ocean wetregion std\", wd_ocean.where(wetregion == 1).std().values)"
   ]
  },
  {
   "cell_type": "code",
   "execution_count": 32,
   "metadata": {},
   "outputs": [
    {
     "name": "stdout",
     "output_type": "stream",
     "text": [
      "wd freq. over ocean dryregion 0.017291456847915186\n",
      "wd freq. over ocean dryregion 0.13035513939999402\n"
     ]
    }
   ],
   "source": [
    "print(\"wd freq. over ocean dryregion\", wd_ocean.where((dryregion == 1)).mean().values)\n",
    "print(\"wd freq. over ocean dryregion\", wd_ocean.where((dryregion == 1)).std().values)"
   ]
  },
  {
   "cell_type": "code",
   "execution_count": null,
   "metadata": {},
   "outputs": [],
   "source": []
  }
 ],
 "metadata": {
  "kernelspec": {
   "display_name": "Python 3",
   "language": "python",
   "name": "python3"
  },
  "language_info": {
   "codemirror_mode": {
    "name": "ipython",
    "version": 3
   },
   "file_extension": ".py",
   "mimetype": "text/x-python",
   "name": "python",
   "nbconvert_exporter": "python",
   "pygments_lexer": "ipython3",
   "version": "3.6.5"
  }
 },
 "nbformat": 4,
 "nbformat_minor": 4
}
