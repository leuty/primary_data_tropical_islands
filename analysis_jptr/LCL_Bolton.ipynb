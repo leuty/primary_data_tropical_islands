{
 "cells": [
  {
   "cell_type": "code",
   "execution_count": 86,
   "metadata": {},
   "outputs": [],
   "source": [
    "import xarray as xr\n",
    "import numpy as np\n",
    "import metpy.calc as mpcalc\n",
    "from metpy.units import units\n",
    "from mpl_toolkits.axes_grid1 import make_axes_locatable\n",
    "\n",
    "from metpy.plots import SkewT\n",
    "\n",
    "import matplotlib.pyplot as plt\n",
    "from matplotlib.lines import Line2D\n",
    "\n",
    "from skimage.measure import label, regionprops\n",
    "import pickle as pickle\n",
    "\n",
    "from scipy import ndimage\n",
    "import gc\n",
    "\n"
   ]
  },
  {
   "cell_type": "code",
   "execution_count": 87,
   "metadata": {},
   "outputs": [],
   "source": [
    "def LCL_Bolton(T, e):\n",
    "    Tlcl = 2840 / (3.5 * np.log(T) - np.log(e) - 4.805) + 55\n",
    "    return Tlcl"
   ]
  },
  {
   "cell_type": "code",
   "execution_count": 88,
   "metadata": {},
   "outputs": [],
   "source": [
    "def LCL_Bolton_RH(Ts, RH):\n",
    "    Tlcl = 1 / ( 1/(Ts - 55) - np.log(RH/100)/ 2840 ) + 55\n",
    "    return Tlcl"
   ]
  },
  {
   "cell_type": "markdown",
   "metadata": {},
   "source": [
    "# Read Data"
   ]
  },
  {
   "cell_type": "code",
   "execution_count": 89,
   "metadata": {},
   "outputs": [],
   "source": [
    "%%capture\n",
    "\n",
    "#Virtual Temperature\n",
    "path = '/scratch/snx3000/davidle/RCE-LND_new/analysis/ensmean/'\n",
    "file='ensmean_daycycle_ALL_3D_P.nc'\n",
    "all_P = xr.open_mfdataset(path+file).squeeze()\n",
    "file='ensmean_daycycle_ALL_3D_T.nc'\n",
    "all_T = xr.open_mfdataset(path+file).squeeze()\n",
    "file='ensmean_daycycle_ALL_3D_RELHUM.nc'\n",
    "all_RELHUM = xr.open_mfdataset(path+file).squeeze()\n",
    "file='ensmean_daycycle_ALL_3D_QV.nc'\n",
    "all_QV = xr.open_mfdataset(path+file).squeeze()\n",
    "file='ensmean_daycycle_ALL_3D_QC.nc'\n",
    "all_QC = xr.open_mfdataset(path+file).squeeze()\n",
    "file='ensmean_daycycle_ALL_3D_W.nc'\n",
    "all_W = xr.open_mfdataset(path+file).squeeze()\n",
    "\n",
    "#TWATER\n",
    "path = '/scratch/snx3000/davidle/RCE-LND_new/analysis/ensmean/'\n",
    "file='ensmean_daycycle_ALL.nc'\n",
    "all_2D= xr.open_mfdataset(path+file)\n",
    "\n",
    "#Wet-Day Frequency\n",
    "path = '/scratch/snx3000/davidle/RCE-LND_new/analysis/RCE_300_3km_1006x1006_ALL_ens?/precip_stats/'\n",
    "file='precip_wd_freq_2D_eq.nc'\n",
    "all_wd_freq= xr.open_mfdataset(path+file, concat_dim='ens').squeeze()\n",
    "\n",
    "\n",
    "#Landmask\n",
    "path = '/scratch/snx3000/davidle/RCE-LND_new/RCE_300_3km_1006x1006_ALL_ens0/output/'\n",
    "file='lffd2011032100c.nc'\n",
    "all_const = xr.open_mfdataset(path+file).squeeze()"
   ]
  },
  {
   "cell_type": "code",
   "execution_count": 90,
   "metadata": {},
   "outputs": [],
   "source": [
    "%%capture\n",
    "\n",
    "#Virtual Temperature\n",
    "path = '/scratch/snx3000/davidle/RCE-LND_new/analysis/ensmean/'\n",
    "file='ensmean_daycycle_SMALL_3D_P.nc'\n",
    "small_P = xr.open_mfdataset(path+file).squeeze()\n",
    "file='ensmean_daycycle_SMALL_3D_T.nc'\n",
    "small_T = xr.open_mfdataset(path+file).squeeze()\n",
    "file='ensmean_daycycle_SMALL_3D_RELHUM.nc'\n",
    "small_RELHUM = xr.open_mfdataset(path+file).squeeze()\n",
    "file='ensmean_daycycle_SMALL_3D_QV.nc'\n",
    "small_QV = xr.open_mfdataset(path+file).squeeze()\n",
    "file='ensmean_daycycle_SMALL_3D_QC.nc'\n",
    "small_QC = xr.open_mfdataset(path+file).squeeze()\n",
    "file='ensmean_daycycle_SMALL_3D_W.nc'\n",
    "small_W = xr.open_mfdataset(path+file).squeeze()\n",
    "\n",
    "#TWATER\n",
    "path = '/scratch/snx3000/davidle/RCE-LND_new/analysis/ensmean/'\n",
    "file='ensmean_daycycle_SMALL.nc'\n",
    "small_2D= xr.open_mfdataset(path+file)\n",
    "\n",
    "#Wet-Day Frequency\n",
    "path = '/scratch/snx3000/davidle/RCE-LND_new/analysis/RCE_300_3km_1006x1006_SMALL_ens?/precip_stats/'\n",
    "file='precip_wd_freq_2D_eq.nc'\n",
    "small_wd_freq= xr.open_mfdataset(path+file, concat_dim='ens').squeeze()\n",
    "\n",
    "\n",
    "#Landmask\n",
    "path = '/scratch/snx3000/davidle/RCE-LND_new/RCE_300_3km_1006x1006_SMALL_ens0/output/'\n",
    "file='lffd2011032100c.nc'\n",
    "small_const = xr.open_mfdataset(path+file).squeeze()"
   ]
  },
  {
   "cell_type": "code",
   "execution_count": 91,
   "metadata": {},
   "outputs": [],
   "source": [
    "all_fr_land = all_const.FR_LAND[4:-4,4:-4]\n",
    "all_land = all_fr_land\n",
    "all_coast = ndimage.binary_dilation(all_fr_land, iterations=20) - all_fr_land - (ndimage.binary_dilation(all_fr_land, iterations=3) - all_fr_land) #cost is 60km wide\n",
    "all_ocean = np.ones_like(all_fr_land) - ndimage.binary_dilation(all_fr_land, iterations=20)\n",
    "\n",
    "#Clip to wet regions\n",
    "cwv = all_2D.TWATER.mean(axis=(0))\n",
    "all_wetmask=np.where(cwv > np.percentile(cwv, 50), 1, 0)\n",
    "all_drymask=np.where(cwv > np.percentile(cwv, 50), 0, 1)\n",
    "\n",
    "all_wland=np.where(all_wetmask, all_land, 0)\n",
    "all_wocean=np.where(all_wetmask, all_ocean, 0)\n",
    "all_coastal_ocean=np.where(all_wetmask, all_coast, 0)\n",
    "all_dry_ocean=np.where(all_drymask, all_ocean, 0)"
   ]
  },
  {
   "cell_type": "code",
   "execution_count": 92,
   "metadata": {},
   "outputs": [],
   "source": [
    "small_fr_land = small_const.FR_LAND[4:-4,4:-4]\n",
    "small_land = small_fr_land\n",
    "small_coast = ndimage.binary_dilation(small_fr_land, iterations=20) - small_fr_land - (ndimage.binary_dilation(small_fr_land, iterations=3) - small_fr_land) #cost is 60km wide\n",
    "small_ocean = np.ones_like(small_fr_land) - ndimage.binary_dilation(small_fr_land, iterations=20)\n",
    "\n",
    "#Clip to wet regions\n",
    "cwv = small_2D.TWATER.mean(axis=(0))\n",
    "small_wetmask=np.where(cwv > np.percentile(cwv, 50), 1, 0)\n",
    "small_drymask=np.where(cwv > np.percentile(cwv, 50), 0, 1)\n",
    "\n",
    "small_wland=np.where(small_wetmask, small_land, 0)\n",
    "small_wocean=np.where(small_wetmask, small_ocean, 0)\n",
    "small_coastal_ocean=np.where(small_wetmask, small_coast, 0)\n",
    "small_dry_ocean=np.where(small_drymask, small_ocean, 0)"
   ]
  },
  {
   "cell_type": "code",
   "execution_count": 93,
   "metadata": {},
   "outputs": [],
   "source": [
    "LCL_all_lnd = LCL_Bolton_RH(np.average(all_T.T[11,-1,:,:],weights=all_wland), np.average(all_RELHUM.RELHUM[11,-1,:,:],weights=all_wland))\n",
    "LCL_all_ocn = LCL_Bolton_RH(np.average(all_T.T[4,-1,:,:],weights=all_wocean), np.average(all_RELHUM.RELHUM[4,-1,:,:],weights=all_wocean))\n",
    "dLCL_all = LCL_all_lnd - LCL_all_ocn"
   ]
  },
  {
   "cell_type": "code",
   "execution_count": 94,
   "metadata": {},
   "outputs": [],
   "source": [
    "LCL_small_lnd = LCL_Bolton_RH(np.average(small_T.T[11,-1,:,:],weights=small_wland), np.average(small_RELHUM.RELHUM[11,-1,:,:],weights=small_wland))\n",
    "LCL_small_ocn = LCL_Bolton_RH(np.average(small_T.T[4,-1,:,:],weights=small_wocean), np.average(small_RELHUM.RELHUM[4,-1,:,:],weights=small_wocean))\n",
    "dLCL_small = LCL_small_lnd - LCL_small_ocn"
   ]
  },
  {
   "cell_type": "markdown",
   "metadata": {},
   "source": [
    "## Near-surface values"
   ]
  },
  {
   "cell_type": "code",
   "execution_count": 95,
   "metadata": {},
   "outputs": [
    {
     "name": "stdout",
     "output_type": "stream",
     "text": [
      "1.6266174\n",
      "1.714508\n"
     ]
    }
   ],
   "source": [
    "Ts_wet_islands_ALL=all_T.T[12,-1,:,:].where(all_wland).mean().values\n",
    "Ts_wet_ocean_ALL=all_T.T[:,-1,:,:].mean(axis=0).where(all_wocean).mean().values\n",
    "\n",
    "Ts_wet_islands_SMALL=small_T.T[12,-1,:,:].where(small_wland).mean().values\n",
    "Ts_wet_ocean_SMALL=small_T.T[:,-1,:,:].mean(axis=0).where(small_wocean).mean().values\n",
    "\n",
    "print(np.mean(Ts_wet_islands_ALL) - np.mean(Ts_wet_ocean_ALL)) \n",
    "print(np.mean(Ts_wet_islands_SMALL) - np.mean(Ts_wet_ocean_SMALL)) "
   ]
  },
  {
   "cell_type": "code",
   "execution_count": 96,
   "metadata": {},
   "outputs": [
    {
     "name": "stdout",
     "output_type": "stream",
     "text": [
      "-7.052513\n",
      "-8.487442\n"
     ]
    }
   ],
   "source": [
    "RH_wet_islands_ALL=all_RELHUM.RELHUM[12,-1,:,:].where(all_wland).mean().values\n",
    "RH_wet_ocean_ALL=all_RELHUM.RELHUM[:,-1,:,:].mean(axis=0).where(all_wocean).mean().values\n",
    "\n",
    "RH_wet_islands_SMALL=small_RELHUM.RELHUM[12,-1,:,:].where(small_wland).mean().values\n",
    "RH_wet_ocean_SMALL=small_RELHUM.RELHUM[:,-1,:,:].mean(axis=0).where(small_wocean).mean().values\n",
    "\n",
    "print(np.mean(RH_wet_islands_ALL) - np.mean(RH_wet_ocean_ALL)) \n",
    "print(np.mean(RH_wet_islands_SMALL) - np.mean(RH_wet_ocean_SMALL)) "
   ]
  },
  {
   "cell_type": "code",
   "execution_count": 97,
   "metadata": {},
   "outputs": [],
   "source": [
    "def composite_lcl_diurnal_cycle(fld,index):\n",
    "    #This is slow, but requires less memory than np.take()\n",
    "    out= np.empty(np.shape(index), dtype=float)\n",
    "    for t,k,j,i in np.ndindex(np.shape(fld)):\n",
    "        out[t,j,i] = fld[t,index[t,j,i],j,i]\n",
    "    return out"
   ]
  },
  {
   "cell_type": "code",
   "execution_count": 98,
   "metadata": {},
   "outputs": [],
   "source": [
    "path = '/scratch/snx3000/davidle/RCE-LND_new/analysis/ensmean/'\n",
    "try:\n",
    "    all_T_lcl  = pickle.load( open( path+'T_lcl.pkl', \"rb\" ) )\n",
    "except:\n",
    "    all_T_lcl = composite_lcl_diurnal_cycle(all_T.T.values,all_ilcl.values)\n",
    "    with open(path+'T_lcl.pkl', 'wb') as pickle_file:\n",
    "        pickle.dump(all_T_lcl, pickle_file)\n",
    "        \n",
    "try:\n",
    "    small_T_lcl  = pickle.load( open( path+'T_lcl_SMALL.pkl', \"rb\" ) )\n",
    "except:\n",
    "    small_T_lcl = composite_lcl_diurnal_cycle(small_T.T.values,small_ilcl.values)\n",
    "    with open(path+'T_lcl_SMALL.pkl', 'wb') as pickle_file:\n",
    "        pickle.dump(small_T_lcl, pickle_file)"
   ]
  },
  {
   "cell_type": "code",
   "execution_count": 99,
   "metadata": {},
   "outputs": [
    {
     "name": "stdout",
     "output_type": "stream",
     "text": [
      "-0.36043755637513186\n",
      "-0.7546704568447353\n"
     ]
    }
   ],
   "source": [
    "Tlcl_wet_islands_ALL=np.average(all_T_lcl[12,:,:], weights=all_wland)\n",
    "Tlcl_wet_ocean_ALL=np.average(np.mean(all_T_lcl[:,:,:], axis=0), weights=all_wocean)\n",
    "\n",
    "Tlcl_wet_islands_SMALL=np.average(small_T_lcl[12,:,:], weights=small_wland)\n",
    "Tlcl_wet_ocean_SMALL=np.average(np.mean(small_T_lcl[:,:,:], axis=0), weights=small_wocean)\n",
    "\n",
    "print(np.mean(Tlcl_wet_islands_ALL) - np.mean(Tlcl_wet_ocean_ALL)) \n",
    "print(np.mean(Tlcl_wet_islands_SMALL) - np.mean(Tlcl_wet_ocean_SMALL)) "
   ]
  },
  {
   "cell_type": "markdown",
   "metadata": {},
   "source": [
    "## LCL"
   ]
  },
  {
   "cell_type": "code",
   "execution_count": 100,
   "metadata": {},
   "outputs": [],
   "source": [
    "def island_properties(fld, islands):\n",
    "    island_labels = label(islands,neighbors=8)\n",
    "    island_probs = regionprops(island_labels)\n",
    "\n",
    "    area = np.zeros(len(island_probs))\n",
    "    island_mean=np.zeros((len(island_probs)))\n",
    "\n",
    "    island_probs = regionprops(island_labels,intensity_image=fld)\n",
    "    for i in range(len(island_probs)):   \n",
    "        area[i]=island_probs[i].area * 9 #Convert to km2\n",
    "        island_mean[i]=island_probs[i].mean_intensity\n",
    "        \n",
    "    #Sort by isalnd size\n",
    "    arr1inds = np.argsort(area)\n",
    "\n",
    "    return area[arr1inds] , island_mean[arr1inds]"
   ]
  },
  {
   "cell_type": "code",
   "execution_count": 101,
   "metadata": {},
   "outputs": [],
   "source": [
    "Ts_all_wet_islands=island_properties(all_T.T[12,-1,:,:].values, all_wland)\n",
    "RH_all_wet_islands=island_properties(all_RELHUM.RELHUM[12,-1,:,:].values, all_wland)\n",
    "\n",
    "\n",
    "Ts_small_wet_islands=island_properties(small_T.T[12,-1,:,:].values, small_wland)\n",
    "RH_small_wet_islands=island_properties(small_RELHUM.RELHUM[12,-1,:,:].values, small_wland)"
   ]
  },
  {
   "cell_type": "code",
   "execution_count": 102,
   "metadata": {},
   "outputs": [],
   "source": [
    "def add_rh_line(t, rh, mask, color='k'):\n",
    "\n",
    "    mean = t.where(mask).compute().mean().values\n",
    "    \n",
    "    p5 = mean + rh.where(mask).compute().std().values\n",
    "    p95 = mean - rh.where(mask).compute().std().values\n",
    "\n",
    "    ax1.add_line(Line2D([mean,mean],[p5, p95], color=color, zorder=3, linewidth=2))"
   ]
  },
  {
   "cell_type": "code",
   "execution_count": 103,
   "metadata": {},
   "outputs": [],
   "source": [
    "def add_t_line(t, rh, mask, color='k'):\n",
    "\n",
    "    mean = rh.where(mask).compute().mean().values\n",
    "    \n",
    "    p5 = mean + t.where(mask).compute().std().values\n",
    "    p95 = mean - t.where(mask).compute().std().values\n",
    "    \n",
    "    ax1.add_line(Line2D([p5, p95], [mean,mean], color=color, zorder=3, linewidth=2))"
   ]
  },
  {
   "cell_type": "code",
   "execution_count": 49,
   "metadata": {},
   "outputs": [
    {
     "data": {
      "image/png": "[encoded data removed]",
      "text/plain": [
       "<Figure size 720x720 with 2 Axes>"
      ]
     },
     "metadata": {
      "needs_background": "light"
     },
     "output_type": "display_data"
    }
   ],
   "source": [
    "fig = plt.figure(figsize=(10, 10))\n",
    "plt.rcParams.update({'font.size': 20})\n",
    "plt.set_cmap('inferno')\n",
    "\n",
    "Ts = np.linspace(299, 303, num=100)\n",
    "RH = np.linspace(50, 100, num=100)\n",
    "\n",
    "ax1=plt.subplot(1,1,1, aspect=1)\n",
    "plt.title(\"T_LCL [K]\")\n",
    "plt.xlabel(\"T_s [K]\")\n",
    "plt.ylabel(\"RH_s [%]\")\n",
    "Ts_2D = np.tile(Ts, (len(Ts),1))\n",
    "RH_2D = np.tile(RH.reshape((len(RH), 1)), len(RH)) \n",
    "\n",
    "\n",
    "plt.contourf(Ts_2D, RH_2D,  LCL_Bolton_RH( Ts_2D, RH_2D), levels=20)\n",
    "plt.colorbar()\n",
    "\n",
    "#LCL over islands\n",
    "plt.scatter(Ts_all_wet_islands[1], RH_all_wet_islands[1], c=np.log(Ts_all_wet_islands[0]), zorder=2, s=50, alpha=1, cmap='gray')\n",
    "plt.scatter(Ts_small_wet_islands[1], RH_small_wet_islands[1], c=np.log(Ts_small_wet_islands[0]), s=50, alpha=1, cmap='gray')\n",
    "\n",
    "#plt.scatter(all_T.T[11,-1,:,:].where(all_wland).compute().mean(), all_RELHUM.RELHUM[11,-1,:,:].where(all_wland).compute().quantile(0.5), color='black', zorder=4)\n",
    "plt.scatter(all_T.T[4,-1,:,:].where(all_wocean).compute().mean(), all_RELHUM.RELHUM[:,-1,:,:].mean(axis=0).where(all_wocean).compute().mean(), facecolors='none', edgecolors='white', zorder=4, s=300, linewidths=3)\n",
    "\n",
    "#plt.scatter(small_T.T[11,-1,:,:].where(small_wland).compute().mean(), small_RELHUM.RELHUM[11,-1,:,:].where(small_wland).compute().quantile(0.5), color='white', zorder=4)\n",
    "plt.scatter(small_T.T[4,-1,:,:].where(small_wocean).compute().mean(), small_RELHUM.RELHUM[:,-1,:,:].mean(axis=0).where(small_wocean).compute().mean(), facecolors='none', edgecolors='white', zorder=4, s=300, linewidths=3)\n",
    "\n",
    "\n",
    "\n",
    "#add_t_line(all_T.T[11,-1,:,:], all_RELHUM.RELHUM[11,-1,:,:], all_wland, color='k')\n",
    "#add_t_line(all_T.T[4,-1,:,:], all_RELHUM.RELHUM[4,-1,:,:], all_wocean, color='k')\n",
    "\n",
    "#add_rh_line(all_T.T[11,-1,:,:], all_RELHUM.RELHUM[11,-1,:,:], all_wland, color='k')\n",
    "#add_rh_line(all_T.T[4,-1,:,:], all_RELHUM.RELHUM[4,-1,:,:], all_wocean, color='k')\n",
    "\n",
    "#add_t_line(small_T.T[11,-1,:,:], small_RELHUM.RELHUM[11,-1,:,:], small_wland, color='white')\n",
    "#add_t_line(small_T.T[4,-1,:,:], small_RELHUM.RELHUM[4,-1,:,:], small_wocean, color='white')\n",
    "\n",
    "#add_rh_line(small_T.T[11,-1,:,:], small_RELHUM.RELHUM[11,-1,:,:], small_wland, color='white')\n",
    "#add_rh_line(small_T.T[4,-1,:,:], small_RELHUM.RELHUM[4,-1,:,:], small_wocean, color='white')\n",
    "\n",
    "\n",
    "x0,x1 = ax1.get_xlim()\n",
    "y0,y1 = ax1.get_ylim()\n",
    "ax1.set_aspect((x1-x0)/(y1-y0))\n",
    "\n",
    "plt.savefig('Bolton.pdf')"
   ]
  },
  {
   "cell_type": "code",
   "execution_count": null,
   "metadata": {},
   "outputs": [],
   "source": []
  }
 ],
 "metadata": {
  "kernelspec": {
   "display_name": "Python 3",
   "language": "python",
   "name": "python3"
  },
  "language_info": {
   "codemirror_mode": {
    "name": "ipython",
    "version": 3
   },
   "file_extension": ".py",
   "mimetype": "text/x-python",
   "name": "python",
   "nbconvert_exporter": "python",
   "pygments_lexer": "ipython3",
   "version": "3.6.5"
  }
 },
 "nbformat": 4,
 "nbformat_minor": 4
}
